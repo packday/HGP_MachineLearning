{
 "cells": [
  {
   "cell_type": "markdown",
   "metadata": {},
   "source": [
    "# Session 1 Python Tutorial/ Parsing of a File Tutorial\n",
    "\n",
    "*Written By: **Nicholas Archibong\n",
    "\n",
    "In this Tutorial, you are taken through how to open a csv file, going through the file and checking for a specific entry, changing that entry, adding in a new coloumn, writing the changed file into a new file for other purposes, as well as going over some basics in python. \n"
   ]
  },
  {
   "cell_type": "markdown",
   "metadata": {},
   "source": [
    "#### Reading in of file\n",
    "\n",
    "In this section, the csv module is imported into our script to allow access to some of their useful methods. Such as reading in a file and writing to a file. \n",
    "\n",
    "*** You will have to change the readFile and writeFile to the location of the github repository that you cloned onto your desktop"
   ]
  },
  {
   "cell_type": "code",
   "execution_count": null,
   "metadata": {
    "scrolled": true
   },
   "outputs": [],
   "source": [
    "import csv # module that contains the csv methods\n",
    "\n",
    "readFile = '' # file reading from\n",
    "writeFile = '' # file writing to\n",
    "\n",
    "with open(readFile, 'r') as rf: # open csv file\n",
    "    data = csv.reader(rf) # read in csv file\n",
    "    playerList = list(data) # convert data to list data type\n",
    "    \n",
    "print(playerList)"
   ]
  },
  {
   "cell_type": "markdown",
   "metadata": {},
   "source": [
    "#### Loop Practice\n",
    "\n",
    "There are two type of loops in python, the while loop and the for loop. Both have similar functionality, however, they have their key differences. A while loop is used for iterations where the end is not known, while the for loop could be used for iterations where the end is known, or you have a specific number of iterations to complete. "
   ]
  },
  {
   "cell_type": "markdown",
   "metadata": {},
   "source": [
    "##### Counting of numbers from 1 to 10\n",
    "\n",
    "This example, you are to complete the code to have both the while loop and the for loop count from 1 to 10. "
   ]
  },
  {
   "cell_type": "code",
   "execution_count": null,
   "metadata": {},
   "outputs": [],
   "source": [
    "for num in range(,):\n",
    "    print(num)"
   ]
  },
  {
   "cell_type": "code",
   "execution_count": null,
   "metadata": {},
   "outputs": [],
   "source": [
    "countNum = \n",
    "while countNum <= :\n",
    "    print(countNum)\n",
    "    countNum += "
   ]
  },
  {
   "cell_type": "markdown",
   "metadata": {},
   "source": [
    "#### More practice with loops\n",
    "\n",
    "In the next example, there is a list of strings. You are tasked with completing the code that is missing in order to find the string name 'Avery'. \n",
    "\n",
    "Counter Concept: A counter is a variable that typically increments when you go through an iteration of a loop. It's useful in the sense that you could use a counter to access list indices. "
   ]
  },
  {
   "cell_type": "code",
   "execution_count": null,
   "metadata": {},
   "outputs": [],
   "source": [
    "# practice with loops\n",
    "import random\n",
    "nameList = ['Michael', 'John', 'James', 'Rick', 'Avery', 'Roi', 'Matthew', 'Peter']\n",
    "random.shuffle(nameList)\n",
    "\n",
    "nameCounter = \n",
    "while nameList[nameCounter] != '':\n",
    "    nameCounter += \n",
    "    print('Avery not found yet in while loop...')"
   ]
  },
  {
   "cell_type": "code",
   "execution_count": null,
   "metadata": {},
   "outputs": [],
   "source": [
    "import random\n",
    "nameList = ['Michael', 'John', 'James', 'Rick', 'Avery', 'Roi', 'Matthew', 'Peter']\n",
    "random.shuffle(nameList)\n",
    "\n",
    "for name in nameList:\n",
    "    if name == '':\n",
    "        break\n",
    "    else:\n",
    "        print('Avery not found yet in for loop...')"
   ]
  },
  {
   "cell_type": "markdown",
   "metadata": {},
   "source": [
    "#### User I/O \n",
    "\n",
    "The input funciton is used to gather information from the user. You could type cast it to change the type from string to any of the other data types. "
   ]
  },
  {
   "cell_type": "code",
   "execution_count": null,
   "metadata": {},
   "outputs": [],
   "source": [
    "userInput = 'c'\n",
    "whileCounter = 1\n",
    "\n",
    "while userInput != 'q':\n",
    "    userInput = input('To quit please enter \\'q\\': ').lower()\n",
    "    whileCounter += 1\n",
    "\n",
    "print('Program Terminated...')\n",
    "print('Number of iterations is...%',whileCounter)"
   ]
  },
  {
   "cell_type": "markdown",
   "metadata": {},
   "source": [
    "#### For Loop: Parsing of Strings\n",
    "\n",
    "In this section of code, you, the user, are looking for a \"specific value\" in the file. This specific value could be anything you want it, however, in this file, there are missing values \"''\" which you would like to replace with a 'NULL' instead to signify that that particular value was missing. \n",
    "\n",
    "A nested for loop is used to access the indcies of the nest list. This allows us to hit every index and check if there if it is missing a value or not. Two counters are used to allow the for loops to traverse the list correctly. \n",
    "\n",
    "Python Nested Lists Documentation: http://www.dreamincode.net/forums/topic/193487-a-quick-overview-of-nested-lists-in-python/"
   ]
  },
  {
   "cell_type": "code",
   "execution_count": null,
   "metadata": {
    "scrolled": true
   },
   "outputs": [],
   "source": [
    "rowCounter = 0; # counter that allows indexing\n",
    "\n",
    "for row in playerList:\n",
    "    colCounter = 0; # column counter needs to be resert\n",
    "    for col in row:\n",
    "        if playerList[rowCounter][colCounter] == '': # searching for specific entry\n",
    "            playerList[rowCounter][colCounter] = 'NULL' # replacing when specific entry is found\n",
    "        colCounter += 1\n",
    "    rowCounter += 1\n",
    "\n",
    "print(playerList)"
   ]
  },
  {
   "cell_type": "markdown",
   "metadata": {},
   "source": [
    "#### Insert of new column\n",
    "\n",
    "In this section of code, you are tasked with finding a if that current value of file is greater than 60, if it is, then add a entry, \"1\", indicating that it was true, else add a 0 instead. This allows for the creation of a new coloumn."
   ]
  },
  {
   "cell_type": "code",
   "execution_count": null,
   "metadata": {
    "collapsed": true
   },
   "outputs": [],
   "source": [
    "# creation of new column\n",
    "playerList[0].append('> 60pts') # add a new column to the 0th row of the list\n",
    "\n",
    "for index in range(1,len(playerList)): # begin at the 1st row of the list\n",
    "    if int(playerList[index][5]) > 60: # check if points is > 60\n",
    "        playerList[index].append('1') # adding of new coloumn \n",
    "    else:\n",
    "        playerList[index].append('0')"
   ]
  },
  {
   "cell_type": "markdown",
   "metadata": {},
   "source": [
    "#### Writing to new File"
   ]
  },
  {
   "cell_type": "code",
   "execution_count": null,
   "metadata": {},
   "outputs": [],
   "source": [
    "with open(writeFile, 'w+') as wf: # open to write to csv file\n",
    "    wr = csv.writer(wf, dialect='excel')\n",
    "    wr.writerows(playerList)\n",
    "    \n",
    "print(playerList)"
   ]
  }
 ],
 "metadata": {
  "kernelspec": {
   "display_name": "Python 3",
   "language": "python",
   "name": "python3"
  },
  "language_info": {
   "codemirror_mode": {
    "name": "ipython",
    "version": 3
   },
   "file_extension": ".py",
   "mimetype": "text/x-python",
   "name": "python",
   "nbconvert_exporter": "python",
   "pygments_lexer": "ipython3",
   "version": "3.6.1"
  }
 },
 "nbformat": 4,
 "nbformat_minor": 1
}
