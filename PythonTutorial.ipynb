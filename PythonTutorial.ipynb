{
 "cells": [
  {
   "cell_type": "markdown",
   "metadata": {},
   "source": [
    "# Session 1 Tutorial\n",
    "\n",
    "*Written By: **Nicholas Archibong\n",
    "\n",
    "In this Tutorial, you are taken through how to open a csv file, going through the file and checking for a specific entry, changing that entry, adding in a new coloumn, and finally writing the changed file into a new file for other purposes. \n"
   ]
  },
  {
   "cell_type": "markdown",
   "metadata": {},
   "source": [
    "#### Reading in of file\n",
    "\n",
    "In this section, the csv module is imported into our script to allow access to some of their useful methods. Such as reading in a file and writing to a file. "
   ]
  },
  {
   "cell_type": "code",
   "execution_count": 11,
   "metadata": {
    "scrolled": true
   },
   "outputs": [
    {
     "name": "stdout",
     "output_type": "stream",
     "text": [
      "[['\\ufeffName', '# of Rings', '# of points', '# of games', '# of assists', 'career high'], ['Michael Jordan', '6', '32292', '', '5633', '69'], ['Russel Westbrook', '', '15000', '410', '2384', '51'], ['LeBron James', '4', '28787', '634', '', '61'], ['Dwyane Wade', '3', '21231', '612', '1234', '55'], ['Kevin Durant', '1', '', '439', '', '54'], ['Stephen Curry', '2', '35235', '378', '2343', '54'], ['Allen Iverson', '', '24368', '', '5624', '55'], ['Kobe Bryant', '5', '31700', '1346', '', '81'], ['Bill Russell', '11', '14522', '963', '214', '37']]\n"
     ]
    }
   ],
   "source": [
    "import csv # module that contains the csv methods\n",
    "\n",
    "readFile = 'resources/data/nba_players.csv' # file reading from\n",
    "writeFile = 'resources/data/nba_players_edited.csv' # file writing to\n",
    "\n",
    "with open(readFile, 'r') as rf: # open csv file\n",
    "    data = csv.reader(rf) # read in csv file\n",
    "    playerList = list(data) # convert data to list data type\n",
    "    \n",
    "#print(playerList)"
   ]
  },
  {
   "cell_type": "markdown",
   "metadata": {},
   "source": [
    "#### Loops\n",
    "\n",
    "Loops are used to do iteration. This iteration could be done on a list, array, or tuple type. This is useful as it allows you to do searching. Search for a number, string, or a combination of both! It's all up to you on what you want to search for. \n",
    "\n",
    "In this example I go over creating a for loop and a while loop that do the same task. A concept learned in this is a **counter** which is just a variable that will keep track of how many iterations you have done so far. "
   ]
  },
  {
   "cell_type": "code",
   "execution_count": null,
   "metadata": {
    "scrolled": true
   },
   "outputs": [],
   "source": [
    "# printing 10 numbers in a for loop\n",
    "for number in range(1,10 + 1):\n",
    "    print(number)"
   ]
  },
  {
   "cell_type": "code",
   "execution_count": null,
   "metadata": {},
   "outputs": [],
   "source": [
    "# printing 10 numbers in a while loop\n",
    "counterWhile = 0\n",
    "while counterWhile <= 10:\n",
    "    print(counterWhile)\n",
    "    counterWhile += 1 # this is shorthand notation for counterWhile = counterWhile + 1"
   ]
  },
  {
   "cell_type": "markdown",
   "metadata": {},
   "source": [
    "#### More loop practice\n",
    "\n",
    "In this example, you are tasked with searching through a list, containing names, for the name 'Avery'. Once this is found, then you are to stop execution of your code, and remove 'Avery' where it occurs. \n",
    "\n",
    "You can use either a for loop or while loop for this example. It shows that both loops can accomplish the same task, however, a certain loop may be more applicable for a problem than the other."
   ]
  },
  {
   "cell_type": "code",
   "execution_count": 30,
   "metadata": {},
   "outputs": [
    {
     "name": "stdout",
     "output_type": "stream",
     "text": [
      "Avery not found yet in while loop...\n",
      "Avery not found yet in while loop...\n",
      "Avery not found yet in while loop...\n",
      "Avery not found yet in while loop...\n",
      "Avery not found yet in while loop...\n",
      "Avery is found!\n",
      "\n",
      "\n",
      "Avery is found!\n"
     ]
    }
   ],
   "source": [
    "import random\n",
    "\n",
    "nameList = ['Michael', 'John', 'James', 'Rick', 'Avery', 'Roi', 'Matthew', 'Peter']\n",
    "random.shuffle(nameList) # makes the order random\n",
    "\n",
    "# create a loop that will stop when 'Avery' is found\n",
    "# either a while or for loop will work!\n",
    "\n",
    "# while loop\n",
    "nameCounter = 0 # enter a starting index/point\n",
    "while nameList[nameCounter] != 'Avery':\n",
    "    nameCounter += 1 # enter how much you want to iterate by\n",
    "    print('Avery not found yet in while loop...')\n",
    "print(nameList[nameCounter] + ' is found!\\n\\n')\n",
    "\n",
    "random.shuffle(nameList)\n",
    "# for loop\n",
    "for name in nameList:\n",
    "    if name == 'Avery':\n",
    "        print(name + ' is found!')\n",
    "        break # used to exit from a loop\n",
    "    else:\n",
    "        print('Avery not found yet in for loop...')"
   ]
  },
  {
   "cell_type": "markdown",
   "metadata": {},
   "source": [
    "#### Python I/O practice with loops\n",
    "\n",
    "In this example, the loop will keep on executing until the user decides to quit with a 'q'. "
   ]
  },
  {
   "cell_type": "code",
   "execution_count": 17,
   "metadata": {},
   "outputs": [
    {
     "name": "stdout",
     "output_type": "stream",
     "text": [
      "User has not exited! # of iteration is: %d\n",
      " 1\n",
      "Enter 'q' to quit\n",
      "e\n",
      "User has not exited! # of iteration is: %d\n",
      " 2\n",
      "Enter 'q' to quit\n",
      "w\n",
      "User has not exited! # of iteration is: %d\n",
      " 3\n",
      "Enter 'q' to quit\n",
      "w\n",
      "User has not exited! # of iteration is: %d\n",
      " 4\n",
      "Enter 'q' to quit\n",
      "q\n"
     ]
    }
   ],
   "source": [
    "userInputWhile = ''\n",
    "counter = 1\n",
    "while userInputWhile.lower() != 'q':\n",
    "    print('User has not exited! # of iteration is: %d\\n', counter)\n",
    "    userInputWhile = input('Enter \\'q\\' to quit\\n')\n",
    "    counter += 1"
   ]
  },
  {
   "cell_type": "markdown",
   "metadata": {},
   "source": [
    "#### For Loop: Parsing of Strings\n",
    "\n",
    "In this section of code, you, the user, are looking for a \"specific value\" in the file. This specific value could be anything you want it, however, in this file, there are missing values \"''\" which you would like to replace with a 'NULL' instead to signify that that particular value was missing. \n",
    "\n",
    "A nested for loop is used to access the indcies of the nest list. This allows us to hit every index and check if there if it is missing a value or not. Two counters are used to allow the for loops to traverse the list correctly. "
   ]
  },
  {
   "cell_type": "code",
   "execution_count": null,
   "metadata": {
    "scrolled": true
   },
   "outputs": [],
   "source": [
    "rowCounter = 0; # counter that allows indexing\n",
    "\n",
    "for row in playerList:\n",
    "    colCounter = 0; # column counter needs to be resert\n",
    "    for col in row:\n",
    "        if playerList[rowCounter][colCounter] == '': # searching for specific entry\n",
    "            playerList[rowCounter][colCounter] = 'NULL' # replacing when specific entry is found\n",
    "        colCounter += 1\n",
    "    rowCounter += 1\n",
    "\n",
    "#print(playerList)"
   ]
  },
  {
   "cell_type": "markdown",
   "metadata": {},
   "source": [
    "#### Insert of new column\n",
    "\n",
    "In this section of code, you are tasked with finding a if that current value of file is greater than 60, if it is, then add a entry, \"1\", indicating that it was true, else add a 0 instead. This allows for the creation of a new coloumn."
   ]
  },
  {
   "cell_type": "code",
   "execution_count": null,
   "metadata": {
    "collapsed": true
   },
   "outputs": [],
   "source": [
    "# creation of new column\n",
    "playerList[0].append('> 60pts') # add a new column to the 0th row of the list\n",
    "\n",
    "for index in range(1,len(playerList)): # begin at the 1st row of the list\n",
    "    if int(playerList[index][5]) > 60: # check if points is > 60\n",
    "        playerList[index].append('1') # adding of new coloumn \n",
    "    else:\n",
    "        playerList[index].append('0')"
   ]
  },
  {
   "cell_type": "markdown",
   "metadata": {},
   "source": [
    "#### Writing to new File"
   ]
  },
  {
   "cell_type": "code",
   "execution_count": null,
   "metadata": {},
   "outputs": [],
   "source": [
    "with open(writeFile, 'w+') as wf: # open to write to csv file\n",
    "    wr = csv.writer(wf, dialect='excel')\n",
    "    wr.writerows(playerList)\n",
    "    \n",
    "#print(playerList)"
   ]
  }
 ],
 "metadata": {
  "kernelspec": {
   "display_name": "Python 3",
   "language": "python",
   "name": "python3"
  },
  "language_info": {
   "codemirror_mode": {
    "name": "ipython",
    "version": 3
   },
   "file_extension": ".py",
   "mimetype": "text/x-python",
   "name": "python",
   "nbconvert_exporter": "python",
   "pygments_lexer": "ipython3",
   "version": "3.6.1"
  }
 },
 "nbformat": 4,
 "nbformat_minor": 1
}
