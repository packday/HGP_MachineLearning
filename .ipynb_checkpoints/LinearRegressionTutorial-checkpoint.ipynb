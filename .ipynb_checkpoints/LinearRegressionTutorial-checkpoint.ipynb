{
 "cells": [
  {
   "cell_type": "markdown",
   "metadata": {},
   "source": [
    "# Linear Regression\n",
    "\n",
    "Linear regression is a very simple approach for supervised learning. Though it may seem somewhat dull compared to some of the more modern algorithms, linear regression is still a useful and widely used statistical learning method. Linear regression is used to predict a quantitative response Y from the predictor variable X. Linear Regression is made with an assumption that there’s a linear relationship between X and Y. The simplest form of Linear Regression is \n",
    "\n",
    "$$f(y) = mx + b$$\n",
    "\n",
    "where is the equation for a line, where x is the input, m is the slope, and b is where the line crosses the y-axis or y intercept. When mapping multiple inputs to a single output the equation is updated to \n",
    "\n",
    "$$\\hat{f}(y) = \\sum w_i * x_i = w_0 + w_1 * x_1 + w_2 * x_2 + \\dots + w_n + x_n$$\n",
    "\n",
    "In this form the $w_0$ represents the y intercept, the combination of $w_1 \\dots w_n$ correlates to the slope of the line, and $x_1 \\dots x_n$ are the inputs. Each instance of $w_i$ specifies how much each $x_i$ contributes to the output.\n",
    "\n",
    "\n",
    "\n"
   ]
  },
  {
   "cell_type": "markdown",
   "metadata": {},
   "source": []
  }
 ],
 "metadata": {
  "kernelspec": {
   "display_name": "Python 3",
   "language": "python",
   "name": "python3"
  },
  "language_info": {
   "codemirror_mode": {
    "name": "ipython",
    "version": 3
   },
   "file_extension": ".py",
   "mimetype": "text/x-python",
   "name": "python",
   "nbconvert_exporter": "python",
   "pygments_lexer": "ipython3",
   "version": "3.6.1"
  }
 },
 "nbformat": 4,
 "nbformat_minor": 1
}
