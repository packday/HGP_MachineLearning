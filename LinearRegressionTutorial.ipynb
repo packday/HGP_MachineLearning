{
 "cells": [
  {
   "cell_type": "markdown",
   "metadata": {},
   "source": [
    "\n",
    "\n",
    "# INTRO to Machine Learning\n",
    "\n",
    "* Arthur Samuel defines ML as \"the field of study that gives computers the ability to learn without being explicitly     programmed.\" \n",
    "\n",
    "* Tom Mitchell defines ML as \"[a] computer program is said to learn from experience E with respect to some class of     tasks T and performance measure P, if its performance at tasks in T, as measured by P, improves with experience E.\"\n",
    "\n",
    "Example: playing checkers.\n",
    "E = the experience of playing many games of checkers\n",
    "T = the task of playing checkers.\n",
    "P = the probability that the program will win the next game.\n",
    "\n",
    "\n",
    "## Supervised Learning vs. Unsupervised Learning\n",
    "\n",
    "> __Unsupervised Learning__:\n",
    "\n",
    "You are given a dataset but do not have an idea of what the output will be. In some cases relationships are determined to \"cluster\" variables together. In other cases, unsupervised learning is used to seperate things in a chaotic enviroment. \n",
    "\n",
    "Clustering Example: Taking a list of NBA player data and stats and grouping players that do similar things together.\n",
    "Non-Clustering Example: Take a recording of people speakig and isolating the individual voices.\n",
    "\n",
    "\n",
    "> ___Supervised Learning___: \n",
    "\n",
    "You are given a data set and already know what our correct output should look like, getting a sense of the relationship between the output and input. Essential, you are given the \"the right answers\". \n",
    "\n",
    "There are two kinds of supervised learning problems **REGRESSION & CLASSIFICATION**. Regression is trying to determing the results in a continous output. Classification is outputing inputs into catergories. \n",
    "\n",
    "Regresssion Example: A relationship between the hours of study a student puts in and exam results.\n",
    "\n",
    "Classification: Spam Detection, classification is used to group emails as spam or not \n",
    "\n",
    "\n"
   ]
  },
  {
   "cell_type": "markdown",
   "metadata": {},
   "source": [
    "## LINEAR REGRESSION "
   ]
  },
  {
   "cell_type": "markdown",
   "metadata": {},
   "source": [
    "This is an example of linear regression."
   ]
  },
  {
   "cell_type": "markdown",
   "metadata": {},
   "source": [
    "**Preliminary **"
   ]
  },
  {
   "cell_type": "code",
   "execution_count": 8,
   "metadata": {
    "collapsed": true
   },
   "outputs": [],
   "source": [
    "import pandas as pd\n",
    "from sklearn import linear_model\n",
    "import random\n",
    "import numpy as np"
   ]
  },
  {
   "cell_type": "markdown",
   "metadata": {},
   "source": [
    "**Load Data**"
   ]
  },
  {
   "cell_type": "code",
   "execution_count": 9,
   "metadata": {},
   "outputs": [],
   "source": [
    "# Load the data\n",
    "df = pd.read_csv('./resources/data/players_stats.csv')\n"
   ]
  },
  {
   "cell_type": "markdown",
   "metadata": {},
   "source": [
    "**Explore Data**"
   ]
  },
  {
   "cell_type": "code",
   "execution_count": null,
   "metadata": {},
   "outputs": [],
   "source": [
    "# View the first few rows\n",
    "df.head()\n",
    "\n",
    "\n",
    "#below is some structure that can be observe from data \n",
    "\"\"\"\n",
    "    From the structure that is represented in the graphs below, it is now possible to\n",
    "    determine what of kind of logic you will be used.\n",
    "\"\"\""
   ]
  },
  {
   "cell_type": "markdown",
   "metadata": {},
   "source": [
    "![Graph Images](http://support.sas.com/documentation/cdl/en/webeditorug/67434/HTML/default/images/tasks_linear_regression_fit_diagnostics.png)"
   ]
  },
  {
   "cell_type": "markdown",
   "metadata": {},
   "source": [
    "**Example:**"
   ]
  },
  {
   "cell_type": "code",
   "execution_count": null,
   "metadata": {},
   "outputs": [],
   "source": [
    "\n",
    "from scipy import linspace, polyval, polyfit, sqrt, stats, randn\n",
    "from pylab import plot, title, show , legend\n",
    "\n",
    "#Linear regression example\n",
    "# This is a very simple example of using two scipy tools \n",
    "# for linear regression, polyfit and stats.linregress\n",
    "\n",
    "#Sample data creation\n",
    "#number of points \n",
    "n=50\n",
    "t=linspace(-5,5,n)\n",
    "#parameters\n",
    "a=0.8; b=-4\n",
    "x=polyval([a,b],t)\n",
    "#add some noise\n",
    "xn=x+randn(n)\n",
    "\n",
    "#Linear regressison -polyfit - polyfit can be used other orders polys\n",
    "(ar,br)=polyfit(t,xn,1)\n",
    "xr=polyval([ar,br],t)\n",
    "#compute the mean square error\n",
    "err=sqrt(sum((xr-xn)**2)/n)\n",
    "\n",
    "print('Linear regression using polyfit')\n",
    "print('parameters: a=%.2f b=%.2f \\nregression: a=%.2f b=%.2f, ms error= %.3f' % (a,b,ar,br,err))\n",
    "\n",
    "#matplotlib ploting\n",
    "title('Linear Regression Example')\n",
    "plot(t,x,'g.--')\n",
    "plot(t,xn,'k.')\n",
    "plot(t,xr,'r.-')\n",
    "legend(['original','plus noise', 'regression'])\n",
    "\n",
    "show()\n",
    "\n",
    "#Linear regression using stats.linregress\n",
    "(a_s,b_s,r,tt,stderr)=stats.linregress(t,xn)\n",
    "print('Linear regression using stats.linregress')\n",
    "print('parameters: a=%.2f b=%.2f \\nregression: a=%.2f b=%.2f, std error= %.3f' % (a,b,a_s,b_s,stderr))"
   ]
  },
  {
   "cell_type": "markdown",
   "metadata": {},
   "source": [
    "** Break Data Up Into Training And Test Datasets **"
   ]
  },
  {
   "cell_type": "markdown",
   "metadata": {},
   "source": [
    "Now for the real work. To judge how how good our model is, we need something to test it against. We can accomplish this using a technique called cross-validation. Cross-validation can get much more complicated and powerful, but in this example we are going do the most simple version of this technique.\n",
    "\n",
    "Steps\n",
    "\n",
    "1. Divide the dataset into two datasets: A 'training' dataset that we will use to train our model and a 'test' dataset that we will use to judge the accuracy of that model.\n",
    "2. Train the model on the 'training' data.\n",
    "3. Apply that model to the test data's X variable, creating the model's guesses for the test data's Ys.\n",
    "4. Compare how close the model's predictions for the test data's Ys were to the actual test data Ys.\n"
   ]
  },
  {
   "cell_type": "code",
   "execution_count": 15,
   "metadata": {},
   "outputs": [
    {
     "data": {
      "text/plain": [
       "(490, 25)"
      ]
     },
     "execution_count": 15,
     "metadata": {},
     "output_type": "execute_result"
    }
   ],
   "source": [
    "# Create our predictor/independent variable\n",
    "# and our response/dependent variable\n",
    "X = df.drop('Playoffs', 1)\n",
    "y = df['Playoffs']\n",
    "df.shape\n"
   ]
  }
 ],
 "metadata": {
  "kernelspec": {
   "display_name": "Python 3",
   "language": "python",
   "name": "python3"
  },
  "language_info": {
   "codemirror_mode": {
    "name": "ipython",
    "version": 3
   },
   "file_extension": ".py",
   "mimetype": "text/x-python",
   "name": "python",
   "nbconvert_exporter": "python",
   "pygments_lexer": "ipython3",
   "version": "3.6.1"
  }
 },
 "nbformat": 4,
 "nbformat_minor": 2
}
