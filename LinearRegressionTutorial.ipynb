{
 "cells": [
  {
   "cell_type": "markdown",
   "metadata": {},
   "source": [
    "\n",
    "\n",
    "# INTRO to Machine Learning\n",
    "\n",
    "* Arthur Samuel defines ML as \"the field of study that gives computers the ability to learn without being explicitly     programmed.\" \n",
    "\n",
    "* Tom Mitchell defines ML as \"[a] computer program is said to learn from experience E with respect to some class of     tasks T and performance measure P, if its performance at tasks in T, as measured by P, improves with experience E.\"\n",
    "\n",
    "Example: playing checkers.\n",
    "E = the experience of playing many games of checkers\n",
    "T = the task of playing checkers.\n",
    "P = the probability that the program will win the next game.\n",
    "\n",
    "\n",
    "## Supervised Learning vs. Unsupervised Learning\n",
    "\n",
    "> __Unsupervised Learning__:\n",
    "\n",
    "You are given a dataset but do not have an idea of what the output will be. In some cases relationships are determined to \"cluster\" variables together. In other cases, unsupervised learning is used to seperate things in a chaotic enviroment. \n",
    "\n",
    "Clustering Example: Taking a list of NBA player data and stats and grouping players that do similar things together.\n",
    "Non-Clustering Example: Take a recording of people speakig and isolating the individual voices.\n",
    "\n",
    "\n",
    "> ___Supervised Learning___: \n",
    "\n",
    "You are given a data set and already know what our correct output should look like, getting a sense of the relationship between the output and input. Essential, you are given the \"the right answers\". \n",
    "\n",
    "There are two kinds of supervised learning problems **REGRESSION & CLASSIFICATION**. Regression is trying to determing the results in a continous output. Classification is outputing inputs into catergories. \n",
    "\n",
    "Examples: (TO BE ADDED) \n",
    "\n",
    "\n",
    "\n"
   ]
  },
  {
   "cell_type": "markdown",
   "metadata": {},
   "source": []
  }
 ],
 "metadata": {
  "kernelspec": {
   "display_name": "Python 3",
   "language": "python",
   "name": "python3"
  },
  "language_info": {
   "codemirror_mode": {
    "name": "ipython",
    "version": 3
   },
   "file_extension": ".py",
   "mimetype": "text/x-python",
   "name": "python",
   "nbconvert_exporter": "python",
   "pygments_lexer": "ipython3",
   "version": "3.6.1"
  }
 },
 "nbformat": 4,
 "nbformat_minor": 2
}
